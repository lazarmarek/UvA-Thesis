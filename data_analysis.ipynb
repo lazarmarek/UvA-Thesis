{
 "cells": [
  {
   "cell_type": "code",
   "execution_count": 1,
   "metadata": {},
   "outputs": [],
   "source": [
    "### Imports\n",
    "import pandas as pd\n",
    "import numpy as np"
   ]
  },
  {
   "cell_type": "markdown",
   "metadata": {},
   "source": [
    "## Data Analysis\n",
    "\n",
    "This notebook analyzes evaluation results comparing AI-generated chart interpretations under two conditions:\n",
    "\n",
    "1. **Image only**: o4-mini receives chart without context\n",
    "2. **Image + context**: o4-mini receives chart with surrounding textual context\n",
    "\n",
    "Each interpretation was evaluated on four quality dimensions using 7-point Likert scales:\n",
    "- Accuracy\n",
    "- Clarity  \n",
    "- Completeness\n",
    "- Relevance\n",
    "\n",
    "Plus an overall preference rating.\n",
    "\n",
    "### Research Questions\n",
    "\n",
    "1. Do context-enhanced interpretations score higher on quality dimensions?\n",
    "2. Which condition do evaluators prefer overall?\n",
    "3. How do the quality dimensions correlate with each other?"
   ]
  },
  {
   "cell_type": "markdown",
   "metadata": {},
   "source": [
    "###  1. Dataset Loading & Preparation"
   ]
  },
  {
   "cell_type": "code",
   "execution_count": null,
   "metadata": {},
   "outputs": [],
   "source": [
    "### --- Reading the data ---\n",
    "df = pd.read_csv('data/evaluation_results.csv')\n",
    "\n",
    "### --- Restructuring the DataFrame to long format ---\n",
    "metrics = ['accuracy', \"clarity\", \"relevance\", \"completeness\"]\n",
    "conditions = [\"with_context\", \"without_context\"]\n",
    "\n",
    "# Converting the dataset to long format\n",
    "long_rows = []\n",
    "for _, row in df.iterrows():\n",
    "    for cond in conditions:\n",
    "        long_rows.append({\n",
    "            \"item_index\": row.item_index,\n",
    "            \"condition\": cond,\n",
    "            **{m: row[f\"{cond}_{m}\"] for m in metrics},\n",
    "            \"overall\": sum(row[f\"{cond}_{m}\"] for m in metrics)/len(metrics),\n",
    "            \"preference\": row.preference_actual\n",
    "        })\n",
    "\n",
    "# Save the long format DataFrame\n",
    "long_df = pd.DataFrame(long_rows)\n",
    "\n",
    "### --- Factorizing Categorical Variables ---\n",
    "\n",
    "# Factorizing the condition & preference columns using the map function\n",
    "## NB: Matching condition to preference\n",
    "long_df['condition'] = long_df['condition'].map({\n",
    "    \"with_context\": 1,\n",
    "    \"without_context\": 0\n",
    "})\n",
    "\n",
    "long_df['preference'] = long_df['preference'].map({\n",
    "    \"with_context\": 1,\n",
    "    \"without_context\": 0,\n",
    "    \"equal\": -1\n",
    "})"
   ]
  },
  {
   "cell_type": "markdown",
   "metadata": {},
   "source": [
    "### 2. Addressing Research Questions"
   ]
  }
 ],
 "metadata": {
  "kernelspec": {
   "display_name": "thesis",
   "language": "python",
   "name": "python3"
  },
  "language_info": {
   "codemirror_mode": {
    "name": "ipython",
    "version": 3
   },
   "file_extension": ".py",
   "mimetype": "text/x-python",
   "name": "python",
   "nbconvert_exporter": "python",
   "pygments_lexer": "ipython3",
   "version": "3.10.18"
  }
 },
 "nbformat": 4,
 "nbformat_minor": 2
}
